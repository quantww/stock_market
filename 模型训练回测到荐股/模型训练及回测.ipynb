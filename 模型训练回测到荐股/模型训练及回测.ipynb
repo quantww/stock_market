{
 "cells": [
  {
   "cell_type": "code",
   "execution_count": 36,
   "metadata": {
    "collapsed": false
   },
   "outputs": [],
   "source": [
    "# 查看当前挂载的数据集目录, 该目录下的变更重启环境后会自动还原\n",
    "# View dataset directory. This directory will be recovered automatically after resetting environment. \n",
    "# !ls /home/aistudio/data"
   ]
  },
  {
   "cell_type": "code",
   "execution_count": 37,
   "metadata": {
    "collapsed": false
   },
   "outputs": [],
   "source": [
    "# 查看工作区文件, 该目录下的变更将会持久保存. 请及时清理不必要的文件, 避免加载过慢.\n",
    "# View personal work directory. All changes under this directory will be kept even after reset. Please clean unnecessary files in time to speed up environment loading.\n",
    "# !ls /home/aistudio/work"
   ]
  },
  {
   "cell_type": "code",
   "execution_count": 38,
   "metadata": {
    "collapsed": false
   },
   "outputs": [
    {
     "name": "stdout",
     "output_type": "stream",
     "text": [
      "Looking in indexes: https://pypi.mirrors.ustc.edu.cn/simple/\n",
      "Collecting tushare\n",
      "\u001b[?25l  Downloading https://mirrors.tuna.tsinghua.edu.cn/pypi/web/packages/af/4c/72c3f36778588beaf2d50fbdade585d781fc6ee841db7d16737964153c91/tushare-1.2.54-py3-none-any.whl (213kB)\n",
      "\u001b[K     |████████████████████████████████| 215kB 20.7MB/s eta 0:00:01\n",
      "\u001b[?25hCollecting lxml>=3.8.0 (from tushare)\n"
     ]
    }
   ],
   "source": [
    "# !pip install tushare\r\n",
    "# !pip install lightgbm # -t /home/aistudio/external-libraries \r\n",
    "# !pip install mpl_finance"
   ]
  },
  {
   "cell_type": "code",
   "execution_count": 2,
   "metadata": {
    "collapsed": false
   },
   "outputs": [],
   "source": [
    "import numpy as np\r\n",
    "import pandas as pd\r\n",
    "import os\r\n",
    "import tqdm"
   ]
  },
  {
   "cell_type": "code",
   "execution_count": 3,
   "metadata": {
    "collapsed": false
   },
   "outputs": [],
   "source": [
    "path = 'stock/OldData/002242.SZ_NormalData.csv'\r\n",
    "df = pd.read_csv(path)"
   ]
  },
  {
   "cell_type": "code",
   "execution_count": 4,
   "metadata": {
    "collapsed": false
   },
   "outputs": [],
   "source": [
    "\r\n",
    "base_path = 'stock/features'\r\n",
    "stock_info_copy = pd.read_csv(os.path.join(base_path, 'stock_info.csv'))\r\n",
    "stock_info = pd.read_csv(os.path.join(base_path, 'feature0.csv'))\r\n",
    "stock_info.drop(['open', 'high', 'low', 'close'], axis=1, inplace=True)\r\n",
    "# stock_info.drop_duplicates(inplace=True)"
   ]
  },
  {
   "cell_type": "code",
   "execution_count": 5,
   "metadata": {
    "collapsed": false
   },
   "outputs": [],
   "source": [
    "\r\n",
    "# 添加涨跌停信息\r\n",
    "limit_info = pd.read_csv(os.path.join(base_path, 'limit.csv'))\r\n",
    "limit_info['U-D'] = limit_info['U'] - limit_info['D']\r\n",
    "limit_info.drop(['U', 'D'], axis=1, inplace=True)\r\n",
    "limit_info = limit_info.rename(columns={'date':'trade_date'})\r\n",
    "stock_info = stock_info.merge(limit_info, on='trade_date', how='left')\r\n",
    "del limit_info"
   ]
  },
  {
   "cell_type": "code",
   "execution_count": 6,
   "metadata": {
    "collapsed": false
   },
   "outputs": [],
   "source": [
    "\r\n",
    "feature_col = ['month', 'weekday', 'vol', 'open_transform', 'high_transform',\r\n",
    "       'low_transform', 'close_transform',\r\n",
    "       'amount_index_000001_shift_1', 'amount_index_000001_shift_3', \r\n",
    "       'amount_index_000001_shift_5', 'close_index_000001_shift_1',\r\n",
    "       'close_index_000001_shift_3','close_index_000001_shift_5',\r\n",
    "       'amount_shift_1', 'amount_shift_3', 'amount_shift_5', 'close_shift_1', 'close_shift_3',\r\n",
    "        'close_shift_5', 'turnover_rate', 'U-D']"
   ]
  },
  {
   "cell_type": "markdown",
   "metadata": {
    "collapsed": false
   },
   "source": [
    "# 标签读取"
   ]
  },
  {
   "cell_type": "code",
   "execution_count": 7,
   "metadata": {
    "collapsed": false
   },
   "outputs": [],
   "source": [
    "label_path = os.path.join('stock','label', 'label.csv')\r\n",
    "label = pd.read_csv(label_path)\r\n",
    "label = label[['ts_date_id', 'label_final', 'open', 'high', 'low', 'close', 'ma5', 'ma13', 'ma21', 'name']]"
   ]
  },
  {
   "cell_type": "code",
   "execution_count": 8,
   "metadata": {
    "collapsed": false
   },
   "outputs": [],
   "source": [
    "# stock_info.drop(['open', 'trade_date', 'ts_code'], axis=1, inplace=True)\r\n",
    "label['ts_date_id'] = label['ts_date_id'] - 1\r\n",
    "stock_info = stock_info.merge(label, on='ts_date_id', how='left')"
   ]
  },
  {
   "cell_type": "code",
   "execution_count": 9,
   "metadata": {
    "collapsed": false
   },
   "outputs": [
    {
     "name": "stdout",
     "output_type": "stream",
     "text": [
      "2475341\n"
     ]
    }
   ],
   "source": [
    "stock_info.dropna(inplace=True)\r\n",
    "stock_info = stock_info.reset_index(drop=True)\r\n",
    "print(len(stock_info))"
   ]
  },
  {
   "cell_type": "markdown",
   "metadata": {
    "collapsed": false
   },
   "source": [
    "# 模型训练"
   ]
  },
  {
   "cell_type": "code",
   "execution_count": 12,
   "metadata": {
    "collapsed": false
   },
   "outputs": [
    {
     "data": {
      "text/plain": [
       "21"
      ]
     },
     "execution_count": 12,
     "metadata": {},
     "output_type": "execute_result"
    }
   ],
   "source": [
    "\r\n",
    "len(feature_col)"
   ]
  },
  {
   "cell_type": "code",
   "execution_count": 13,
   "metadata": {
    "collapsed": false
   },
   "outputs": [
    {
     "name": "stdout",
     "output_type": "stream",
     "text": [
      "rate of 0: 0.7762, rate of 1: 0.2238\n",
      "trn data:2011124, val data:201234, test data:334367\n",
      "number of features:21\n",
      "['month', 'weekday', 'vol', 'open_transform', 'high_transform', 'low_transform', 'close_transform', 'amount_index_000001_shift_1', 'amount_index_000001_shift_3', 'amount_index_000001_shift_5', 'close_index_000001_shift_1', 'close_index_000001_shift_3', 'close_index_000001_shift_5', 'amount_shift_1', 'amount_shift_3', 'amount_shift_5', 'close_shift_1', 'close_shift_3', 'close_shift_5', 'turnover_rate', 'U-D']\n"
     ]
    }
   ],
   "source": [
    "trn_col = feature_col\r\n",
    "# trn_col.remove('month')\r\n",
    "# 'high', 'low', 'close', 'pre_close',\r\n",
    "# trn_col = list(set(trn_col))\r\n",
    "label = 'label_final'\r\n",
    "# trn_date_min = 20170103\r\n",
    "# trn_date_max = 20190416\r\n",
    "# val_date_min = 20190417\r\n",
    "# val_date_max = 20190429\r\n",
    "# test_date_min = 20190417\r\n",
    "# test_date_max = 20191218\r\n",
    "\r\n",
    "trn_date_min = 20160103\r\n",
    "trn_date_max = 20190831\r\n",
    "val_date_min = 20190101\r\n",
    "val_date_max = 20190419\r\n",
    "test_date_min = 20190901\r\n",
    "test_date_max = 20200301\r\n",
    "\r\n",
    "trn_data_idx = (stock_info['trade_date'] >= trn_date_min) & (stock_info['trade_date'] <= trn_date_max) & (stock_info['high']!=stock_info['close'])\r\n",
    "val_data_idx = (stock_info['trade_date'] >= val_date_min) & (stock_info['trade_date'] <= val_date_max)\r\n",
    "test_data_idx = (stock_info['trade_date'] >= test_date_min) & (stock_info['trade_date'] <= test_date_max)\r\n",
    "\r\n",
    "trn = stock_info[trn_data_idx][trn_col]\r\n",
    "trn_label = stock_info[trn_data_idx][label].values\r\n",
    "\r\n",
    "val = stock_info[val_data_idx][trn_col]\r\n",
    "val_label = stock_info[val_data_idx][label].values \r\n",
    "\r\n",
    "test = stock_info[test_data_idx][trn_col]\r\n",
    "test_label = stock_info[test_data_idx][label].values\r\n",
    "\r\n",
    "print('rate of 0: %.4f, rate of 1: %.4f' % (np.sum(trn_label==0)/len(trn_label), np.sum(trn_label==1)/len(trn_label)))\r\n",
    "print('trn data:%d, val data:%d, test data:%d' % (len(trn), len(val), len(test)))\r\n",
    "print('number of features:%d' % len(trn_col))\r\n",
    "print(feature_col)"
   ]
  },
  {
   "cell_type": "code",
   "execution_count": 14,
   "metadata": {
    "collapsed": false
   },
   "outputs": [],
   "source": [
    "# 模型训练及评价\r\n",
    "import lightgbm as lgb\r\n",
    "from sklearn import metrics\r\n",
    "param = {'num_leaves': 31,\r\n",
    "         'min_data_in_leaf': 20,\r\n",
    "         'objective': 'binary',\r\n",
    "         'learning_rate': 0.06,\r\n",
    "         \"boosting\": \"gbdt\",\r\n",
    "#          \"bagging_freq\": 1,\r\n",
    "#          \"bagging_seed\": 11,\r\n",
    "        #  'objective':'multiclass',\r\n",
    "         \"metric\": 'None',\r\n",
    "         \"verbosity\": -1}\r\n",
    "trn_data = lgb.Dataset(trn, trn_label)\r\n",
    "val_data = lgb.Dataset(val, val_label)\r\n",
    "num_round = 666\r\n",
    "# clf = lgb.train(param, trn_data, num_round, valid_sets=[trn_data, val_data], verbose_eval=100,\r\n",
    "#                 early_stopping_rounds=300, feval=win_score_eval)\r\n",
    "clf = lgb.train(param, trn_data, num_round)\r\n",
    "# oof_lgb = clf.predict(val, num_iteration=clf.best_iteration)\r\n",
    "test_lgb = clf.predict(test, num_iteration=clf.best_iteration)"
   ]
  },
  {
   "cell_type": "code",
   "execution_count": 15,
   "metadata": {
    "collapsed": false
   },
   "outputs": [],
   "source": [
    "# 模型保存\r\n",
    "import pickle\r\n",
    "save_path = 'model.pickle'\r\n",
    "with open(save_path, 'wb') as f:\r\n",
    "    pickle.dump(clf, f)"
   ]
  },
  {
   "cell_type": "code",
   "execution_count": 16,
   "metadata": {
    "collapsed": false
   },
   "outputs": [
    {
     "data": {
      "text/html": [
       "<div>\n",
       "<style scoped>\n",
       "    .dataframe tbody tr th:only-of-type {\n",
       "        vertical-align: middle;\n",
       "    }\n",
       "\n",
       "    .dataframe tbody tr th {\n",
       "        vertical-align: top;\n",
       "    }\n",
       "\n",
       "    .dataframe thead th {\n",
       "        text-align: right;\n",
       "    }\n",
       "</style>\n",
       "<table border=\"1\" class=\"dataframe\">\n",
       "  <thead>\n",
       "    <tr style=\"text-align: right;\">\n",
       "      <th></th>\n",
       "      <th>column</th>\n",
       "      <th>importance</th>\n",
       "    </tr>\n",
       "  </thead>\n",
       "  <tbody>\n",
       "    <tr>\n",
       "      <th>20</th>\n",
       "      <td>U-D</td>\n",
       "      <td>1598</td>\n",
       "    </tr>\n",
       "    <tr>\n",
       "      <th>0</th>\n",
       "      <td>month</td>\n",
       "      <td>1577</td>\n",
       "    </tr>\n",
       "    <tr>\n",
       "      <th>10</th>\n",
       "      <td>close_index_000001_shift_1</td>\n",
       "      <td>1541</td>\n",
       "    </tr>\n",
       "    <tr>\n",
       "      <th>12</th>\n",
       "      <td>close_index_000001_shift_5</td>\n",
       "      <td>1505</td>\n",
       "    </tr>\n",
       "    <tr>\n",
       "      <th>11</th>\n",
       "      <td>close_index_000001_shift_3</td>\n",
       "      <td>1503</td>\n",
       "    </tr>\n",
       "    <tr>\n",
       "      <th>8</th>\n",
       "      <td>amount_index_000001_shift_3</td>\n",
       "      <td>1399</td>\n",
       "    </tr>\n",
       "    <tr>\n",
       "      <th>7</th>\n",
       "      <td>amount_index_000001_shift_1</td>\n",
       "      <td>1384</td>\n",
       "    </tr>\n",
       "    <tr>\n",
       "      <th>9</th>\n",
       "      <td>amount_index_000001_shift_5</td>\n",
       "      <td>1365</td>\n",
       "    </tr>\n",
       "    <tr>\n",
       "      <th>19</th>\n",
       "      <td>turnover_rate</td>\n",
       "      <td>1267</td>\n",
       "    </tr>\n",
       "    <tr>\n",
       "      <th>16</th>\n",
       "      <td>close_shift_1</td>\n",
       "      <td>794</td>\n",
       "    </tr>\n",
       "    <tr>\n",
       "      <th>5</th>\n",
       "      <td>low_transform</td>\n",
       "      <td>740</td>\n",
       "    </tr>\n",
       "    <tr>\n",
       "      <th>18</th>\n",
       "      <td>close_shift_5</td>\n",
       "      <td>730</td>\n",
       "    </tr>\n",
       "    <tr>\n",
       "      <th>4</th>\n",
       "      <td>high_transform</td>\n",
       "      <td>669</td>\n",
       "    </tr>\n",
       "    <tr>\n",
       "      <th>17</th>\n",
       "      <td>close_shift_3</td>\n",
       "      <td>649</td>\n",
       "    </tr>\n",
       "    <tr>\n",
       "      <th>2</th>\n",
       "      <td>vol</td>\n",
       "      <td>609</td>\n",
       "    </tr>\n",
       "    <tr>\n",
       "      <th>6</th>\n",
       "      <td>close_transform</td>\n",
       "      <td>530</td>\n",
       "    </tr>\n",
       "    <tr>\n",
       "      <th>13</th>\n",
       "      <td>amount_shift_1</td>\n",
       "      <td>456</td>\n",
       "    </tr>\n",
       "    <tr>\n",
       "      <th>3</th>\n",
       "      <td>open_transform</td>\n",
       "      <td>432</td>\n",
       "    </tr>\n",
       "    <tr>\n",
       "      <th>14</th>\n",
       "      <td>amount_shift_3</td>\n",
       "      <td>428</td>\n",
       "    </tr>\n",
       "    <tr>\n",
       "      <th>15</th>\n",
       "      <td>amount_shift_5</td>\n",
       "      <td>419</td>\n",
       "    </tr>\n",
       "    <tr>\n",
       "      <th>1</th>\n",
       "      <td>weekday</td>\n",
       "      <td>385</td>\n",
       "    </tr>\n",
       "  </tbody>\n",
       "</table>\n",
       "</div>"
      ],
      "text/plain": [
       "                         column  importance\n",
       "20                          U-D        1598\n",
       "0                         month        1577\n",
       "10   close_index_000001_shift_1        1541\n",
       "12   close_index_000001_shift_5        1505\n",
       "11   close_index_000001_shift_3        1503\n",
       "8   amount_index_000001_shift_3        1399\n",
       "7   amount_index_000001_shift_1        1384\n",
       "9   amount_index_000001_shift_5        1365\n",
       "19                turnover_rate        1267\n",
       "16                close_shift_1         794\n",
       "5                 low_transform         740\n",
       "18                close_shift_5         730\n",
       "4                high_transform         669\n",
       "17                close_shift_3         649\n",
       "2                           vol         609\n",
       "6               close_transform         530\n",
       "13               amount_shift_1         456\n",
       "3                open_transform         432\n",
       "14               amount_shift_3         428\n",
       "15               amount_shift_5         419\n",
       "1                       weekday         385"
      ]
     },
     "execution_count": 16,
     "metadata": {},
     "output_type": "execute_result"
    }
   ],
   "source": [
    "pd.DataFrame({\r\n",
    "        'column': trn_col,\r\n",
    "        'importance': clf.feature_importance(),\r\n",
    "    }).sort_values(by='importance', ascending=False)"
   ]
  },
  {
   "cell_type": "markdown",
   "metadata": {
    "collapsed": false
   },
   "source": [
    "# 读取指数信息"
   ]
  },
  {
   "cell_type": "code",
   "execution_count": 17,
   "metadata": {
    "collapsed": false
   },
   "outputs": [],
   "source": [
    "# #############\r\n",
    "# 读取指数信息\r\n",
    "# ############\r\n",
    "base_path = 'stock'\r\n",
    "index_df = pd.read_csv(os.path.join(base_path,  'OldData', '000001.SH' + '_NormalData.csv'))\r\n",
    "tmp_idx = (index_df['trade_date'] >= test_date_min) & (index_df['trade_date'] <= test_date_max)\r\n",
    "index_df = index_df.loc[tmp_idx].reset_index()\r\n",
    "index_df.drop('index', axis=1, inplace=True)\r\n",
    "\r\n",
    "tmp_list = list(index_df['trade_date'].sort_values())\r\n",
    "date_map = dict(zip(tmp_list, range(len(tmp_list))))\r\n",
    "index_df['trade_date_id'] = index_df['trade_date'].map(date_map)\r\n",
    "\r\n",
    "index_df['rate1'] = (index_df['open'] - index_df['pre_close']) / index_df['pre_close']\r\n",
    "index_df['rate2'] = (index_df['close'] - index_df['pre_close']) / index_df['pre_close']\r\n",
    "\r\n",
    "# 指数清仓指标\r\n",
    "index_df['sell_flag'] = 0\r\n",
    "\r\n",
    "# 收盘大跌1.5个点，sell flag=2\r\n",
    "idx = index_df['rate2'] <= -0.015\r\n",
    "index_df.loc[idx, 'sell_flag'] = 2\r\n",
    "\r\n",
    "# 开盘大跌两个点，sell flag=1\r\n",
    "\r\n",
    "idx = index_df['rate1'] <= -0.02\r\n",
    "index_df.loc[idx, 'sell_flag'] = 1\r\n",
    "\r\n",
    "index_df = index_df.sort_values('trade_date', ascending=True).reset_index(drop=True)"
   ]
  },
  {
   "cell_type": "markdown",
   "metadata": {
    "collapsed": false
   },
   "source": [
    "# 回测"
   ]
  },
  {
   "cell_type": "code",
   "execution_count": 18,
   "metadata": {
    "collapsed": false
   },
   "outputs": [
    {
     "data": {
      "text/plain": [
       "array([0.18886596, 0.10227889, 0.117513  , ..., 0.10702118, 0.65277511,\n",
       "       0.33141791])"
      ]
     },
     "execution_count": 18,
     "metadata": {},
     "output_type": "execute_result"
    }
   ],
   "source": [
    "test_lgb"
   ]
  },
  {
   "cell_type": "code",
   "execution_count": 19,
   "metadata": {
    "collapsed": false
   },
   "outputs": [
    {
     "data": {
      "text/plain": [
       "Index(['month', 'weekday', 'vol', 'open_transform', 'high_transform',\n",
       "       'low_transform', 'high_transform.1', 'close_transform',\n",
       "       'amount_index_000001_shift_1', 'amount_index_000001_shift_2',\n",
       "       'amount_index_000001_shift_3', 'amount_index_000001_shift_4',\n",
       "       'amount_index_000001_shift_5', 'close_index_000001_shift_1',\n",
       "       'close_index_000001_shift_2', 'close_index_000001_shift_3',\n",
       "       'close_index_000001_shift_4', 'close_index_000001_shift_5',\n",
       "       'amount_shift_1', 'amount_shift_2', 'amount_shift_3', 'amount_shift_4',\n",
       "       'amount_shift_5', 'close_shift_1', 'close_shift_2', 'close_shift_3',\n",
       "       'close_shift_4', 'close_shift_5', 'turnover_rate', 'trade_date',\n",
       "       'ts_code', 'ts_date_id', 'U_max_5', 'D_max_5', 'U_mean_5', 'D_mean_5',\n",
       "       'Umean-Dmeam5', 'U_max_10', 'D_max_10', 'U_mean_10', 'D_mean_10',\n",
       "       'Umean-Dmeam10', 'U_max_13', 'D_max_13', 'U_mean_13', 'D_mean_13',\n",
       "       'Umean-Dmeam13', 'U_max_21', 'D_max_21', 'U_mean_21', 'D_mean_21',\n",
       "       'Umean-Dmeam21', 'U-D', 'label_final', 'open', 'high', 'low', 'close',\n",
       "       'ma5', 'ma13', 'ma21', 'name'],\n",
       "      dtype='object')"
      ]
     },
     "execution_count": 19,
     "metadata": {},
     "output_type": "execute_result"
    }
   ],
   "source": [
    "stock_info.columns"
   ]
  },
  {
   "cell_type": "code",
   "execution_count": null,
   "metadata": {
    "collapsed": false
   },
   "outputs": [],
   "source": [
    "thresh_hold = 0.5\r\n",
    "oof_test_final = test_lgb >= thresh_hold\r\n",
    "\r\n",
    "print(metrics.accuracy_score(test_label, oof_test_final))\r\n",
    "print(metrics.confusion_matrix(test_label, oof_test_final))\r\n",
    "tp = np.sum(((oof_test_final == 1) & (test_label == 1)))\r\n",
    "pp = np.sum(oof_test_final == 1)\r\n",
    "print('accuracy1:%.3f'% (tp/(pp)))\r\n"
   ]
  },
  {
   "cell_type": "code",
   "execution_count": 21,
   "metadata": {
    "collapsed": false
   },
   "outputs": [
    {
     "data": {
      "text/plain": [
       "array([False, False, False, ..., False,  True, False])"
      ]
     },
     "execution_count": 21,
     "metadata": {},
     "output_type": "execute_result"
    }
   ],
   "source": [
    "oof_test_final"
   ]
  },
  {
   "cell_type": "code",
   "execution_count": 22,
   "metadata": {
    "collapsed": false
   },
   "outputs": [],
   "source": [
    "\r\n",
    "# test_postive_idx = np.argwhere(oof_test_final != 0).reshape(-1)\r\n",
    "test_postive_idx = np.argwhere(oof_test_final == True).reshape(-1)\r\n",
    "# test_postive_idx = list(range(len(oof_test_final)))\r\n",
    "test_all_idx = np.argwhere(np.array(test_data_idx)).reshape(-1)\r\n",
    "stock_info['trade_date_id'] = stock_info['trade_date'].map(date_map)\r\n",
    "stock_info['trade_date_id'] = stock_info['trade_date_id'] + 1 # 向下移动一天"
   ]
  },
  {
   "cell_type": "code",
   "execution_count": 23,
   "metadata": {
    "collapsed": false
   },
   "outputs": [],
   "source": [
    "\r\n",
    "# 查看选了哪些股票\r\n",
    "\r\n",
    "tmp_col = ['ts_code', 'trade_date', 'trade_date_id', 'open', 'high', 'low', 'close', \r\n",
    "           'ma5', 'ma13', 'ma21', 'label_final', 'name']\r\n",
    "# stock_info.iloc[test_all_idx[test_postive_idx]]\r\n",
    "\r\n",
    "tmp_df = stock_info[tmp_col].iloc[test_all_idx[test_postive_idx]].reset_index()\r\n",
    "tmp_df['label_prob'] = test_lgb[test_postive_idx]\r\n",
    "# idx_tmp = tmp_df['is_ST'] == 0\r\n",
    "# tmp_df.loc[idx_tmp, 'is_limit_up'] = (((tmp_df['close'][idx_tmp]-tmp_df['pre_close'][idx_tmp]) / tmp_df['pre_close'][idx_tmp]) > 0.095)\r\n",
    "# idx_tmp = tmp_df['is_ST'] == 1\r\n",
    "# tmp_df.loc[idx_tmp, 'is_limit_up'] = (((tmp_df['close'][idx_tmp]-tmp_df['pre_close'][idx_tmp]) / tmp_df['pre_close'][idx_tmp]) > 0.047)\r\n",
    "\r\n",
    "tmp_df['is_limit_up'] = tmp_df['close'] == tmp_df['high']\r\n",
    "\r\n",
    "buy_df = tmp_df[(tmp_df['is_limit_up']==False)].reset_index()\r\n",
    "buy_df.drop(['index', 'level_0'], axis=1, inplace=True)"
   ]
  },
  {
   "cell_type": "code",
   "execution_count": 28,
   "metadata": {
    "collapsed": false
   },
   "outputs": [],
   "source": [
    "buy_df['buy_flag'] = 1\r\n",
    "stock_info_copy['sell_flag'] = 0"
   ]
  },
  {
   "cell_type": "code",
   "execution_count": 29,
   "metadata": {
    "collapsed": false
   },
   "outputs": [
    {
     "name": "stdout",
     "output_type": "stream",
     "text": [
      "43056 20331.0\n",
      "43056 20331\n"
     ]
    }
   ],
   "source": [
    "print(len(buy_df), sum(buy_df['label_final']))\r\n",
    "print(len(buy_df), sum(buy_df['label_final']==1))"
   ]
  },
  {
   "cell_type": "code",
   "execution_count": 30,
   "metadata": {
    "collapsed": false
   },
   "outputs": [],
   "source": [
    "\r\n",
    "tmp_idx = (index_df['trade_date'] == test_date_min+1)\r\n",
    "close1 = index_df[tmp_idx]['close'].values[0]\r\n",
    "test_date_max = 20200228\r\n",
    "tmp_idx = (index_df['trade_date'] == test_date_max)\r\n",
    "close2 = index_df[tmp_idx]['close'].values[0]"
   ]
  },
  {
   "cell_type": "code",
   "execution_count": 31,
   "metadata": {
    "collapsed": false
   },
   "outputs": [],
   "source": [
    "\r\n",
    "tmp_idx = (stock_info_copy['trade_date'] >= test_date_min) & (stock_info_copy['trade_date'] <= test_date_max)\r\n",
    "tmp_df = stock_info_copy[tmp_idx].reset_index(drop=True)"
   ]
  },
  {
   "cell_type": "code",
   "execution_count": 32,
   "metadata": {
    "collapsed": false
   },
   "outputs": [
    {
     "name": "stdout",
     "output_type": "stream",
     "text": [
      "20190923  买入 德宏股份 (603701.SH) 1500股，股价：13.25,花费：19875.0,手续费：5.96，剩余现金：80119.04\n",
      "20190923  买入 深大通 (000038.SZ) 1400股，股价：13.58,花费：19012.0,手续费：5.7，剩余现金：61101.33\n",
      "20190923  买入 恒铭达 (002947.SZ) 300股，股价：61.27,花费：18381.0,手续费：5.51，剩余现金：42714.82\n",
      "20190923  买入 易尚展示 (002751.SZ) 600股，股价：30.4,花费：18240.0,手续费：5.47，剩余现金：24469.35\n",
      "20190923  买入 海星股份 (603115.SH) 700股，股价：27.6,花费：19320.0,手续费：5.8，剩余现金：5143.55\n",
      "20190923  买入 柯力传感 (603662.SH) 100股，股价：48.76,花费：4876.0,手续费：5，剩余现金：262.55\n",
      "20190925  止损卖出海星股份 (603115.SH) 700股，股价：25.392,收入：17774.4,手续费：23.11，剩余现金：18013.84，最终亏损：-1574.5\n",
      "20190925  止损卖出易尚展示 (002751.SZ) 600股，股价：27.967999999999996,收入：16780.8,手续费：21.82，剩余现金：34772.83，最终亏损：-1486.49\n",
      "20190926  止损卖出柯力传感 (603662.SH) 100股，股价：44.859199999999994,收入：4485.92,手续费：9.49，剩余现金：39249.26，最终亏损：-404.57\n",
      "20190926  止损卖出恒铭达 (002947.SZ) 300股，股价：56.3684,收入：16910.52,手续费：21.98，剩余现金：56137.8，最终亏损：-1497.98\n",
      "20190926  止损卖出深大通 (000038.SZ) 1400股，股价：12.493599999999999,收入：17491.04,手续费：22.74，剩余现金：73606.1，最终亏损：-1549.4\n",
      "20190926  止损卖出德宏股份 (603701.SH) 1500股，股价：12.19,收入：18285.0,手续费：23.77，剩余现金：91867.33，最终亏损：-1619.73\n",
      "20191010  买入 中航三鑫 (002163.SZ) 3800股，股价：4.72,花费：17936.0,手续费：5.38，剩余现金：73925.95\n",
      "20191014  买入 信立泰 (002294.SZ) 900股，股价：19.22,花费：17298.0,手续费：5.19，剩余现金：56622.76\n",
      "20191014  买入 中润资源 (000506.SZ) 6300股，股价：2.91,花费：18333.0,手续费：5.5，剩余现金：38284.26\n",
      "20191014  买入 中国海防 (600764.SH) 600股，股价：29.07,花费：17442.0,手续费：5.23，剩余现金：20837.03\n",
      "20191014  买入 北汽蓝谷 (600733.SH) 2800股，股价：6.37,花费：17836.0,手续费：5.35，剩余现金：2995.68\n",
      "20191018  止损卖出中润资源 (000506.SZ) 6300股，股价：2.6772,收入：16866.36,手续费：21.93，剩余现金：19840.11，最终亏损：-1494.07\n",
      "20191021  买入 *ST刚泰 (600687.SH) 10200股，股价：1.77,花费：18054.0,手续费：5.42，剩余现金：1780.7\n",
      "20191030  止损卖出北汽蓝谷 (600733.SH) 2800股，股价：5.84,收入：16352.0,手续费：21.35，剩余现金：18111.34，最终亏损：-1510.7\n",
      "20191031  止损卖出*ST刚泰 (600687.SH) 10200股，股价：1.6,收入：16320.0,手续费：21.32，剩余现金：34410.02，最终亏损：-1760.74\n",
      "20191101  止损卖出中国海防 (600764.SH) 600股，股价：26.7444,收入：16046.64,手续费：21.05，剩余现金：50435.62，最终亏损：-1421.64\n",
      "20191106  到期卖出中航三鑫 (002163.SZ) 3800股，股价：4.85,收入：18430.0,手续费：23.96，剩余现金：68841.66，最终盈利：464.66\n",
      "20191108  到期卖出信立泰 (002294.SZ) 900股，股价：18.92,收入：17028.0,手续费：22.14，剩余现金：85847.52，最终亏损：-297.33\n",
      "20191231  买入 南宁百货 (600712.SH) 1900股，股价：8.97,花费：17043.0,手续费：5.11，剩余现金：68799.41\n",
      "20200103  买入 奋达科技 (002681.SZ) 2900股，股价：5.83,花费：16907.0,手续费：5.07，剩余现金：51887.34\n",
      "20200103  买入 智光电气 (002169.SZ) 2400股，股价：7.2,花费：17280.0,手续费：5.18，剩余现金：34602.15\n",
      "20200103  买入 交建股份 (603815.SH) 900股，股价：17.91,花费：16119.0,手续费：5，剩余现金：18478.15\n",
      "20200103  买入 博敏电子 (603936.SH) 900股，股价：17.9,花费：16110.0,手续费：5，剩余现金：2363.15\n",
      "20200103  止盈卖出南宁百货 (600712.SH) 1900股，股价：10.046400000000002,收入：19088.16,手续费：24.81，剩余现金：21426.5，最终盈利：2015.23\n",
      "20200106  买入 商赢环球 (600146.SH) 1200股，股价：13.65,花费：16380.0,手续费：5，剩余现金：5041.5\n",
      "20200106  买入 协鑫集成 (002506.SZ) 800股，股价：5.84,花费：4672.0,手续费：5，剩余现金：364.5\n",
      "20200108  止盈卖出博敏电子 (603936.SH) 900股，股价：20.048000000000002,收入：18043.2,手续费：23.46，剩余现金：18384.24，最终盈利：1904.74\n",
      "20200109  买入 中国建筑 (601668.SH) 2900股，股价：6.0,花费：17400.0,手续费：5.22，剩余现金：979.02\n",
      "20200113  止损卖出协鑫集成 (002506.SZ) 800股，股价：5.3728,收入：4298.24,手续费：9.3，剩余现金：5267.96，最终亏损：-388.06\n",
      "20200114  买入 永悦科技 (603879.SH) 500股，股价：9.95,花费：4975.0,手续费：5，剩余现金：287.96\n",
      "20200114  止盈卖出商赢环球 (600146.SH) 1200股，股价：15.288000000000002,收入：18345.6,手续费：23.85，剩余现金：18609.71，最终盈利：1936.75\n",
      "20200117  止损卖出永悦科技 (603879.SH) 500股，股价：9.153999999999998,收入：4577.0,手续费：9.58，剩余现金：23177.14，最终亏损：-412.58\n",
      "20200120  止损卖出奋达科技 (002681.SZ) 2900股，股价：5.3636,收入：15554.44,手续费：20.55，剩余现金：38711.02，最终亏损：-1378.19\n",
      "20200121  止损卖出交建股份 (603815.SH) 900股，股价：16.4772,收入：14829.48,手续费：19.83，剩余现金：53520.67，最终亏损：-1314.35\n",
      "20200122  买入 惠发食品 (603536.SH) 1200股，股价：13.59,花费：16308.0,手续费：5，剩余现金：37207.67\n",
      "20200122  买入 ST中新 (603996.SH) 4300股，股价：3.98,花费：17114.0,手续费：5.13，剩余现金：20088.54\n",
      "20200122  买入 延安必康 (002411.SZ) 1200股，股价：13.59,花费：16308.0,手续费：5，剩余现金：3775.54\n",
      "20200122  止损卖出中国建筑 (601668.SH) 2900股，股价：5.52,收入：16008.0,手续费：21.01，剩余现金：19762.53，最终亏损：-1418.23\n",
      "20200123  止损卖出延安必康 (002411.SZ) 1200股，股价：12.502799999999999,收入：15003.36,手续费：20.0，剩余现金：34745.89，最终亏损：-1329.64\n",
      "20200123  止损卖出ST中新 (603996.SH) 4300股，股价：4.02,收入：17286.0,手续费：22.47，剩余现金：52009.42，最终亏损：144.39\n",
      "20200123  止损卖出惠发食品 (603536.SH) 1200股，股价：12.502799999999999,收入：15003.36,手续费：20.0，剩余现金：66992.77，最终亏损：-1329.64\n",
      "20200123  止损卖出智光电气 (002169.SZ) 2400股，股价：7.17,收入：17208.0,手续费：22.37，剩余现金：84178.4，最终亏损：-99.55\n",
      "20200203  买入 金洲慈航 (000587.SZ) 11600股，股价：1.45,花费：16820.0,手续费：5.05，剩余现金：67353.36\n",
      "20200203  买入 延安必康 (002411.SZ) 1300股，股价：12.88,花费：16744.0,手续费：5.02，剩余现金：50604.33\n",
      "20200203  买入 惠发食品 (603536.SH) 1500股，股价：11.16,花费：16740.0,手续费：5.02，剩余现金：33859.31\n",
      "20200203  买入 荣华实业 (600311.SH) 6800股，股价：2.47,花费：16796.0,手续费：5.04，剩余现金：17058.27\n",
      "20200203  买入 鄂武商A (000501.SZ) 1600股，股价：9.97,花费：15952.0,手续费：5，剩余现金：1101.27\n",
      "20200204  止损卖出鄂武商A (000501.SZ) 1600股，股价：9.9,收入：15840.0,手续费：20.84，剩余现金：16920.43，最终亏损：-137.84\n",
      "20200204  止损卖出荣华实业 (600311.SH) 6800股，股价：2.41,收入：16388.0,手续费：21.39，剩余现金：33287.04，最终亏损：-434.43\n",
      "20200204  止损卖出惠发食品 (603536.SH) 1500股，股价：11.0,收入：16500.0,手续费：21.5，剩余现金：49765.54，最终亏损：-266.52\n",
      "20200204  止损卖出延安必康 (002411.SZ) 1300股，股价：12.45,收入：16185.0,手续费：21.18，剩余现金：65929.36，最终亏损：-585.21\n",
      "20200204  止损卖出金洲慈航 (000587.SZ) 11600股，股价：1.32,收入：15312.0,手续费：20.31，剩余现金：81221.05，最终亏损：-1533.36\n",
      "20200205  买入 柏堡龙 (002776.SZ) 1900股，股价：8.33,花费：15827.0,手续费：5，剩余现金：65389.05\n",
      "20200205  买入 常山北明 (000158.SZ) 2400股，股价：6.64,花费：15936.0,手续费：5，剩余现金：49448.05\n",
      "20200205  买入 阿科力 (603722.SH) 500股，股价：32.34,花费：16170.0,手续费：5，剩余现金：33273.05\n",
      "20200205  买入 中广天择 (603721.SH) 600股，股价：23.62,花费：14172.0,手续费：5，剩余现金：19096.05\n",
      "20200205  买入 慈文传媒 (002343.SZ) 1500股，股价：10.3,花费：15450.0,手续费：5，剩余现金：3641.05\n",
      "20200206  止盈卖出柏堡龙 (002776.SZ) 1900股，股价：9.329600000000001,收入：17726.24,手续费：23.04，剩余现金：21344.24，最终盈利：1871.2\n",
      "20200207  买入 京汉股份 (000615.SZ) 5200股，股价：3.35,花费：17420.0,手续费：5.23，剩余现金：3919.02\n",
      "20200207  止盈卖出常山北明 (000158.SZ) 2400股，股价：7.436800000000001,收入：17848.32,手续费：23.2，剩余现金：21744.13，最终盈利：1884.12\n",
      "20200210  买入 口子窖 (603589.SH) 400股，股价：43.6,花费：17440.0,手续费：5.23，剩余现金：4298.9\n",
      "20200211  止盈卖出京汉股份 (000615.SZ) 5200股，股价：3.93,收入：20436.0,手续费：26.57，剩余现金：24708.34，最终盈利：2984.21\n",
      "20200212  买入 胜利精密 (002426.SZ) 10000股，股价：1.8,花费：18000.0,手续费：5.4，剩余现金：6702.94\n",
      "20200212  买入 惠发食品 (603536.SH) 500股，股价：13.09,花费：6545.0,手续费：5，剩余现金：152.94\n",
      "20200213  止盈卖出胜利精密 (002426.SZ) 10000股，股价：2.0160000000000005,收入：20160.0,手续费：26.21，剩余现金：20286.73，最终盈利：2128.39\n",
      "20200214  止损卖出中广天择 (603721.SH) 600股，股价：21.7304,收入：13038.24,手续费：18.04，剩余现金：33306.93，最终亏损：-1156.8\n",
      "20200217  买入 南宁百货 (600712.SH) 2700股，股价：6.77,花费：18279.0,手续费：5.48，剩余现金：15022.45\n",
      "20200217  止盈卖出慈文传媒 (002343.SZ) 1500股，股价：11.536000000000001,收入：17304.0,手续费：22.5，剩余现金：32303.95，最终盈利：1826.5\n",
      "20200218  买入 中航三鑫 (002163.SZ) 3200股，股价：5.82,花费：18624.0,手续费：5.59，剩余现金：13674.36\n",
      "20200218  买入 东信和平 (002017.SZ) 1000股，股价：13.48,花费：13480.0,手续费：5，剩余现金：189.36\n",
      "20200218  止盈卖出阿科力 (603722.SH) 500股，股价：36.220800000000004,收入：18110.4,手续费：23.54，剩余现金：18276.22，最终盈利：1911.86\n",
      "20200219  买入 康德莱 (603987.SH) 1900股，股价：9.59,花费：18221.0,手续费：5.47，剩余现金：49.75\n",
      "20200219  止盈卖出惠发食品 (603536.SH) 500股，股价：14.660800000000002,收入：7330.4,手续费：12.33，剩余现金：7367.82，最终盈利：768.07\n",
      "20200220  买入 尚纬股份 (603333.SH) 900股，股价：7.58,花费：6822.0,手续费：5，剩余现金：540.82\n",
      "20200220  止盈卖出康德莱 (603987.SH) 1900股，股价：10.7408,收入：20407.52,手续费：26.53，剩余现金：20921.81，最终盈利：2154.52\n",
      "20200221  买入 金徽酒 (603919.SH) 1200股，股价：15.57,花费：18684.0,手续费：5.61，剩余现金：2232.21\n",
      "20200221  止盈卖出中航三鑫 (002163.SZ) 3200股，股价：6.518400000000001,收入：20858.88,手续费：27.12，剩余现金：23063.97，最终盈利：2202.18\n",
      "20200221  止盈卖出口子窖 (603589.SH) 400股，股价：48.83200000000001,收入：19532.8,手续费：25.39，剩余现金：42571.38，最终盈利：2062.18\n",
      "20200224  买入 华讯方舟 (000687.SZ) 3800股，股价：5.3,花费：20140.0,手续费：6.04，剩余现金：22425.34\n",
      "20200224  买入 引力传媒 (603598.SH) 1200股，股价：16.09,花费：19308.0,手续费：5.79，剩余现金：3111.54\n",
      "20200224  止盈卖出东信和平 (002017.SZ) 1000股，股价：15.097600000000002,收入：15097.6,手续费：20.1，剩余现金：18189.05，最终盈利：1592.5\n",
      "20200225  买入 鲁商发展 (600223.SH) 2000股，股价：8.9,花费：17800.0,手续费：5.34，剩余现金：383.71\n",
      "20200226  止损卖出鲁商发展 (600223.SH) 2000股，股价：8.187999999999999,收入：16376.0,手续费：21.38，剩余现金：16738.33，最终亏损：-1450.72\n",
      "20200228  买入 *ST信威 (600485.SH) 11000股，股价：1.52,花费：16720.0,手续费：5.02，剩余现金：13.31\n",
      "20200228  止损卖出引力传媒 (603598.SH) 1200股，股价：15.6,收入：18720.0,手续费：24.34，剩余现金：18708.98，最终亏损：-618.13\n",
      "20200228  止损卖出华讯方舟 (000687.SZ) 3800股，股价：5.08,收入：19304.0,手续费：25.1，剩余现金：37987.88，最终亏损：-867.14\n",
      "20200228  止损卖出金徽酒 (603919.SH) 1200股，股价：14.9,收入：17880.0,手续费：23.24，剩余现金：55844.64，最终亏损：-832.85\n",
      "20200228  止损卖出尚纬股份 (603333.SH) 900股，股价：7.07,收入：6363.0,手续费：11.36，剩余现金：62196.28，最终亏损：-475.36\n",
      "20200228  止损卖出南宁百货 (600712.SH) 2700股，股价：6.35,收入：17145.0,手续费：22.29，剩余现金：79318.99，最终亏损：-1161.77\n"
     ]
    }
   ],
   "source": [
    "\r\n",
    "from imp import reload\r\n",
    "import Account\r\n",
    "reload(Account)\r\n",
    "money_init = 100000\r\n",
    "account = Account.Account(money_init, max_hold_period=20, stop_loss_rate=-0.07, stop_profit_rate=0.12)\r\n",
    "account.BackTest(buy_df, tmp_df, index_df, buy_price='open')"
   ]
  },
  {
   "cell_type": "code",
   "execution_count": 33,
   "metadata": {
    "collapsed": false
   },
   "outputs": [],
   "source": [
    "\r\n",
    "tmp_df2 = buy_df[['ts_code', 'trade_date', 'label_prob', 'label_final']]\r\n",
    "tmp_df2 = tmp_df2.rename(columns={'trade_date':'buy_date'}) \r\n",
    "tmp_df = account.info\r\n",
    "tmp_df['buy_date'] = tmp_df['buy_date'].apply(lambda x: int(x)) \r\n",
    "tmp_df = tmp_df.merge(tmp_df2, on=['ts_code', 'buy_date'], how='left')"
   ]
  },
  {
   "cell_type": "code",
   "execution_count": 34,
   "metadata": {
    "collapsed": false
   },
   "outputs": [
    {
     "name": "stdout",
     "output_type": "stream",
     "text": [
      "账户盈利情况:-0.0396\n",
      "上证指数浮动情况:-0.0150\n",
      "交易胜率:0.3191\n",
      "最大回撤率:0.1878\n"
     ]
    }
   ],
   "source": [
    "\r\n",
    "account_profit = (account.market_value - money_init) / money_init\r\n",
    "index_profit = (close2 - close1) / close1\r\n",
    "win_rate = account.victory / (account.victory + account.defeat)\r\n",
    "print('账户盈利情况:%.4f' % account_profit)\r\n",
    "print('上证指数浮动情况:%.4f' % index_profit)\r\n",
    "print('交易胜率:%.4f' % win_rate)\r\n",
    "print('最大回撤率:%.4f' % account.max_retracement)"
   ]
  },
  {
   "cell_type": "code",
   "execution_count": 35,
   "metadata": {
    "collapsed": false
   },
   "outputs": [
    {
     "name": "stderr",
     "output_type": "stream",
     "text": [
      "/opt/conda/envs/python35-paddle120-env/lib/python3.7/site-packages/mpl_finance.py:22: DeprecationWarning: \n",
      "\n",
      "  =================================================================\n",
      "\n",
      "   WARNING: `mpl_finance` is deprecated:\n",
      "\n",
      "    Please use `mplfinance` instead (no hyphen, no underscore).\n",
      "\n",
      "    To install: `pip install --upgrade mplfinance` \n",
      "\n",
      "   For more information, see: https://pypi.org/project/mplfinance/\n",
      "\n",
      "  =================================================================\n",
      "\n",
      "  category=DeprecationWarning)\n"
     ]
    },
    {
     "data": {
      "image/png": "[encoded data removed]",
      "text/plain": [
       "<Figure size 864x576 with 1 Axes>"
      ]
     },
     "metadata": {},
     "output_type": "display_data"
    }
   ],
   "source": [
    "import Draw\r\n",
    "reload(Draw)\r\n",
    "%matplotlib inline\r\n",
    "index_value = list(index_df[index_df['trade_date']==test_date_min+1]['pre_close']) + list(index_df.sort_values('trade_date')['close'])\r\n",
    "Draw.Draw_Market_Value_Change(0, account.market_value_all, index_value)"
   ]
  },
  {
   "cell_type": "code",
   "execution_count": null,
   "metadata": {
    "collapsed": false
   },
   "outputs": [],
   "source": []
  },
  {
   "cell_type": "markdown",
   "metadata": {
    "collapsed": false
   },
   "source": [
    "请点击[此处](https://ai.baidu.com/docs#/AIStudio_Project_Notebook/a38e5576)查看本环境基本用法.  <br>\n",
    "Please click [here ](https://ai.baidu.com/docs#/AIStudio_Project_Notebook/a38e5576) for more detailed instructions. "
   ]
  }
 ],
 "metadata": {
  "kernelspec": {
   "display_name": "PaddlePaddle 1.7.1 (Python 3.5)",
   "language": "python",
   "name": "py35-paddle1.2.0"
  },
  "language_info": {
   "codemirror_mode": {
    "name": "ipython",
    "version": 3
   },
   "file_extension": ".py",
   "mimetype": "text/x-python",
   "name": "python",
   "nbconvert_exporter": "python",
   "pygments_lexer": "ipython3",
   "version": "3.7.4"
  }
 },
 "nbformat": 4,
 "nbformat_minor": 1
}
